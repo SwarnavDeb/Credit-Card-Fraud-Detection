{
 "cells": [
  {
   "cell_type": "code",
   "execution_count": 1,
   "id": "0120ba3c-0926-4f7c-840a-36b23bddd3d6",
   "metadata": {},
   "outputs": [],
   "source": [
    "import numpy as np\n",
    "import pandas as pd"
   ]
  },
  {
   "cell_type": "markdown",
   "id": "de61fd33-325b-4d2f-858e-a9123abc9766",
   "metadata": {},
   "source": [
    "**Importing tha dataset**"
   ]
  },
  {
   "cell_type": "code",
   "execution_count": 2,
   "id": "c64f4d26-5e67-4ba3-9899-8fda608379d0",
   "metadata": {},
   "outputs": [
    {
     "data": {
      "text/html": [
       "<div>\n",
       "<style scoped>\n",
       "    .dataframe tbody tr th:only-of-type {\n",
       "        vertical-align: middle;\n",
       "    }\n",
       "\n",
       "    .dataframe tbody tr th {\n",
       "        vertical-align: top;\n",
       "    }\n",
       "\n",
       "    .dataframe thead th {\n",
       "        text-align: right;\n",
       "    }\n",
       "</style>\n",
       "<table border=\"1\" class=\"dataframe\">\n",
       "  <thead>\n",
       "    <tr style=\"text-align: right;\">\n",
       "      <th></th>\n",
       "      <th>Time</th>\n",
       "      <th>V1</th>\n",
       "      <th>V2</th>\n",
       "      <th>V3</th>\n",
       "      <th>V4</th>\n",
       "      <th>V5</th>\n",
       "      <th>V6</th>\n",
       "      <th>V7</th>\n",
       "      <th>V8</th>\n",
       "      <th>V9</th>\n",
       "      <th>...</th>\n",
       "      <th>V21</th>\n",
       "      <th>V22</th>\n",
       "      <th>V23</th>\n",
       "      <th>V24</th>\n",
       "      <th>V25</th>\n",
       "      <th>V26</th>\n",
       "      <th>V27</th>\n",
       "      <th>V28</th>\n",
       "      <th>Amount</th>\n",
       "      <th>Class</th>\n",
       "    </tr>\n",
       "  </thead>\n",
       "  <tbody>\n",
       "    <tr>\n",
       "      <th>0</th>\n",
       "      <td>0.0</td>\n",
       "      <td>-1.359807</td>\n",
       "      <td>-0.072781</td>\n",
       "      <td>2.536347</td>\n",
       "      <td>1.378155</td>\n",
       "      <td>-0.338321</td>\n",
       "      <td>0.462388</td>\n",
       "      <td>0.239599</td>\n",
       "      <td>0.098698</td>\n",
       "      <td>0.363787</td>\n",
       "      <td>...</td>\n",
       "      <td>-0.018307</td>\n",
       "      <td>0.277838</td>\n",
       "      <td>-0.110474</td>\n",
       "      <td>0.066928</td>\n",
       "      <td>0.128539</td>\n",
       "      <td>-0.189115</td>\n",
       "      <td>0.133558</td>\n",
       "      <td>-0.021053</td>\n",
       "      <td>149.62</td>\n",
       "      <td>0</td>\n",
       "    </tr>\n",
       "    <tr>\n",
       "      <th>1</th>\n",
       "      <td>0.0</td>\n",
       "      <td>1.191857</td>\n",
       "      <td>0.266151</td>\n",
       "      <td>0.166480</td>\n",
       "      <td>0.448154</td>\n",
       "      <td>0.060018</td>\n",
       "      <td>-0.082361</td>\n",
       "      <td>-0.078803</td>\n",
       "      <td>0.085102</td>\n",
       "      <td>-0.255425</td>\n",
       "      <td>...</td>\n",
       "      <td>-0.225775</td>\n",
       "      <td>-0.638672</td>\n",
       "      <td>0.101288</td>\n",
       "      <td>-0.339846</td>\n",
       "      <td>0.167170</td>\n",
       "      <td>0.125895</td>\n",
       "      <td>-0.008983</td>\n",
       "      <td>0.014724</td>\n",
       "      <td>2.69</td>\n",
       "      <td>0</td>\n",
       "    </tr>\n",
       "    <tr>\n",
       "      <th>2</th>\n",
       "      <td>1.0</td>\n",
       "      <td>-1.358354</td>\n",
       "      <td>-1.340163</td>\n",
       "      <td>1.773209</td>\n",
       "      <td>0.379780</td>\n",
       "      <td>-0.503198</td>\n",
       "      <td>1.800499</td>\n",
       "      <td>0.791461</td>\n",
       "      <td>0.247676</td>\n",
       "      <td>-1.514654</td>\n",
       "      <td>...</td>\n",
       "      <td>0.247998</td>\n",
       "      <td>0.771679</td>\n",
       "      <td>0.909412</td>\n",
       "      <td>-0.689281</td>\n",
       "      <td>-0.327642</td>\n",
       "      <td>-0.139097</td>\n",
       "      <td>-0.055353</td>\n",
       "      <td>-0.059752</td>\n",
       "      <td>378.66</td>\n",
       "      <td>0</td>\n",
       "    </tr>\n",
       "    <tr>\n",
       "      <th>3</th>\n",
       "      <td>1.0</td>\n",
       "      <td>-0.966272</td>\n",
       "      <td>-0.185226</td>\n",
       "      <td>1.792993</td>\n",
       "      <td>-0.863291</td>\n",
       "      <td>-0.010309</td>\n",
       "      <td>1.247203</td>\n",
       "      <td>0.237609</td>\n",
       "      <td>0.377436</td>\n",
       "      <td>-1.387024</td>\n",
       "      <td>...</td>\n",
       "      <td>-0.108300</td>\n",
       "      <td>0.005274</td>\n",
       "      <td>-0.190321</td>\n",
       "      <td>-1.175575</td>\n",
       "      <td>0.647376</td>\n",
       "      <td>-0.221929</td>\n",
       "      <td>0.062723</td>\n",
       "      <td>0.061458</td>\n",
       "      <td>123.50</td>\n",
       "      <td>0</td>\n",
       "    </tr>\n",
       "    <tr>\n",
       "      <th>4</th>\n",
       "      <td>2.0</td>\n",
       "      <td>-1.158233</td>\n",
       "      <td>0.877737</td>\n",
       "      <td>1.548718</td>\n",
       "      <td>0.403034</td>\n",
       "      <td>-0.407193</td>\n",
       "      <td>0.095921</td>\n",
       "      <td>0.592941</td>\n",
       "      <td>-0.270533</td>\n",
       "      <td>0.817739</td>\n",
       "      <td>...</td>\n",
       "      <td>-0.009431</td>\n",
       "      <td>0.798278</td>\n",
       "      <td>-0.137458</td>\n",
       "      <td>0.141267</td>\n",
       "      <td>-0.206010</td>\n",
       "      <td>0.502292</td>\n",
       "      <td>0.219422</td>\n",
       "      <td>0.215153</td>\n",
       "      <td>69.99</td>\n",
       "      <td>0</td>\n",
       "    </tr>\n",
       "  </tbody>\n",
       "</table>\n",
       "<p>5 rows × 31 columns</p>\n",
       "</div>"
      ],
      "text/plain": [
       "   Time        V1        V2        V3        V4        V5        V6        V7  \\\n",
       "0   0.0 -1.359807 -0.072781  2.536347  1.378155 -0.338321  0.462388  0.239599   \n",
       "1   0.0  1.191857  0.266151  0.166480  0.448154  0.060018 -0.082361 -0.078803   \n",
       "2   1.0 -1.358354 -1.340163  1.773209  0.379780 -0.503198  1.800499  0.791461   \n",
       "3   1.0 -0.966272 -0.185226  1.792993 -0.863291 -0.010309  1.247203  0.237609   \n",
       "4   2.0 -1.158233  0.877737  1.548718  0.403034 -0.407193  0.095921  0.592941   \n",
       "\n",
       "         V8        V9  ...       V21       V22       V23       V24       V25  \\\n",
       "0  0.098698  0.363787  ... -0.018307  0.277838 -0.110474  0.066928  0.128539   \n",
       "1  0.085102 -0.255425  ... -0.225775 -0.638672  0.101288 -0.339846  0.167170   \n",
       "2  0.247676 -1.514654  ...  0.247998  0.771679  0.909412 -0.689281 -0.327642   \n",
       "3  0.377436 -1.387024  ... -0.108300  0.005274 -0.190321 -1.175575  0.647376   \n",
       "4 -0.270533  0.817739  ... -0.009431  0.798278 -0.137458  0.141267 -0.206010   \n",
       "\n",
       "        V26       V27       V28  Amount  Class  \n",
       "0 -0.189115  0.133558 -0.021053  149.62      0  \n",
       "1  0.125895 -0.008983  0.014724    2.69      0  \n",
       "2 -0.139097 -0.055353 -0.059752  378.66      0  \n",
       "3 -0.221929  0.062723  0.061458  123.50      0  \n",
       "4  0.502292  0.219422  0.215153   69.99      0  \n",
       "\n",
       "[5 rows x 31 columns]"
      ]
     },
     "execution_count": 2,
     "metadata": {},
     "output_type": "execute_result"
    }
   ],
   "source": [
    "df = pd.read_csv('D:\\\\Data Science\\\\data\\\\creditcard.csv')\n",
    "df.head()"
   ]
  },
  {
   "cell_type": "code",
   "execution_count": 3,
   "id": "41ae6fb8-d2e1-4f32-9526-e1f87ce58a36",
   "metadata": {},
   "outputs": [
    {
     "name": "stdout",
     "output_type": "stream",
     "text": [
      "<class 'pandas.core.frame.DataFrame'>\n",
      "RangeIndex: 284807 entries, 0 to 284806\n",
      "Data columns (total 31 columns):\n",
      " #   Column  Non-Null Count   Dtype  \n",
      "---  ------  --------------   -----  \n",
      " 0   Time    284807 non-null  float64\n",
      " 1   V1      284807 non-null  float64\n",
      " 2   V2      284807 non-null  float64\n",
      " 3   V3      284807 non-null  float64\n",
      " 4   V4      284807 non-null  float64\n",
      " 5   V5      284807 non-null  float64\n",
      " 6   V6      284807 non-null  float64\n",
      " 7   V7      284807 non-null  float64\n",
      " 8   V8      284807 non-null  float64\n",
      " 9   V9      284807 non-null  float64\n",
      " 10  V10     284807 non-null  float64\n",
      " 11  V11     284807 non-null  float64\n",
      " 12  V12     284807 non-null  float64\n",
      " 13  V13     284807 non-null  float64\n",
      " 14  V14     284807 non-null  float64\n",
      " 15  V15     284807 non-null  float64\n",
      " 16  V16     284807 non-null  float64\n",
      " 17  V17     284807 non-null  float64\n",
      " 18  V18     284807 non-null  float64\n",
      " 19  V19     284807 non-null  float64\n",
      " 20  V20     284807 non-null  float64\n",
      " 21  V21     284807 non-null  float64\n",
      " 22  V22     284807 non-null  float64\n",
      " 23  V23     284807 non-null  float64\n",
      " 24  V24     284807 non-null  float64\n",
      " 25  V25     284807 non-null  float64\n",
      " 26  V26     284807 non-null  float64\n",
      " 27  V27     284807 non-null  float64\n",
      " 28  V28     284807 non-null  float64\n",
      " 29  Amount  284807 non-null  float64\n",
      " 30  Class   284807 non-null  int64  \n",
      "dtypes: float64(30), int64(1)\n",
      "memory usage: 67.4 MB\n"
     ]
    }
   ],
   "source": [
    "df.info()"
   ]
  },
  {
   "cell_type": "code",
   "execution_count": 4,
   "id": "18866d97-5b7b-43f7-815e-74da8207e23a",
   "metadata": {},
   "outputs": [
    {
     "data": {
      "text/plain": [
       "Time      0\n",
       "V1        0\n",
       "V2        0\n",
       "V3        0\n",
       "V4        0\n",
       "V5        0\n",
       "V6        0\n",
       "V7        0\n",
       "V8        0\n",
       "V9        0\n",
       "V10       0\n",
       "V11       0\n",
       "V12       0\n",
       "V13       0\n",
       "V14       0\n",
       "V15       0\n",
       "V16       0\n",
       "V17       0\n",
       "V18       0\n",
       "V19       0\n",
       "V20       0\n",
       "V21       0\n",
       "V22       0\n",
       "V23       0\n",
       "V24       0\n",
       "V25       0\n",
       "V26       0\n",
       "V27       0\n",
       "V28       0\n",
       "Amount    0\n",
       "Class     0\n",
       "dtype: int64"
      ]
     },
     "execution_count": 4,
     "metadata": {},
     "output_type": "execute_result"
    }
   ],
   "source": [
    "df.isnull().sum()                    #no null values found"
   ]
  },
  {
   "cell_type": "code",
   "execution_count": 5,
   "id": "8ace6c20-ab42-4c25-9339-26c10d24b346",
   "metadata": {},
   "outputs": [
    {
     "data": {
      "text/plain": [
       "0    284315\n",
       "1       492\n",
       "Name: Class, dtype: int64"
      ]
     },
     "execution_count": 5,
     "metadata": {},
     "output_type": "execute_result"
    }
   ],
   "source": [
    "df['Class'].value_counts()"
   ]
  },
  {
   "cell_type": "markdown",
   "id": "3790d1fd-b6f0-484e-b7c3-44988c465cc8",
   "metadata": {},
   "source": [
    "*There are 2 types of class 0 and 1 which is genuine and fraud transactions respectively*"
   ]
  },
  {
   "cell_type": "code",
   "execution_count": 6,
   "id": "7ad03f36-825b-4eb8-a259-5e9a52254eba",
   "metadata": {},
   "outputs": [],
   "source": [
    "#separating the data\n",
    "genuine = df[df.Class == 0]\n",
    "fraud = df[df.Class == 1]"
   ]
  },
  {
   "cell_type": "code",
   "execution_count": 7,
   "id": "5620a536-966b-400e-940b-f15a61a5d9ad",
   "metadata": {},
   "outputs": [
    {
     "name": "stdout",
     "output_type": "stream",
     "text": [
      "(284315, 31)\n",
      "(492, 31)\n"
     ]
    }
   ],
   "source": [
    "print(genuine.shape)\n",
    "print(fraud.shape)"
   ]
  },
  {
   "cell_type": "code",
   "execution_count": 8,
   "id": "cb9de1b8-66ed-4fea-b76e-2efff23fbe5b",
   "metadata": {},
   "outputs": [
    {
     "data": {
      "text/plain": [
       "count    284315.000000\n",
       "mean         88.291022\n",
       "std         250.105092\n",
       "min           0.000000\n",
       "25%           5.650000\n",
       "50%          22.000000\n",
       "75%          77.050000\n",
       "max       25691.160000\n",
       "Name: Amount, dtype: float64"
      ]
     },
     "execution_count": 8,
     "metadata": {},
     "output_type": "execute_result"
    }
   ],
   "source": [
    "genuine.Amount.describe()"
   ]
  },
  {
   "cell_type": "code",
   "execution_count": 9,
   "id": "11a5c70f-344e-4ffb-b115-aea5f32ae888",
   "metadata": {},
   "outputs": [
    {
     "data": {
      "text/plain": [
       "count     492.000000\n",
       "mean      122.211321\n",
       "std       256.683288\n",
       "min         0.000000\n",
       "25%         1.000000\n",
       "50%         9.250000\n",
       "75%       105.890000\n",
       "max      2125.870000\n",
       "Name: Amount, dtype: float64"
      ]
     },
     "execution_count": 9,
     "metadata": {},
     "output_type": "execute_result"
    }
   ],
   "source": [
    "fraud.Amount.describe()"
   ]
  },
  {
   "cell_type": "markdown",
   "id": "08756046-9c6e-41bf-85bd-7a75a92bd36f",
   "metadata": {},
   "source": [
    "*Maximum of 2125 worth of fraud transactions were made*"
   ]
  },
  {
   "cell_type": "code",
   "execution_count": null,
   "id": "c2cfa7f6-afcd-4031-b16b-2731108df172",
   "metadata": {},
   "outputs": [],
   "source": []
  },
  {
   "cell_type": "markdown",
   "id": "c94abbdc-b1a4-4c39-a795-4ea6901d8769",
   "metadata": {},
   "source": [
    "Taking equal number of samples for both genuine and fraud transactions i.e. 492 each"
   ]
  },
  {
   "cell_type": "code",
   "execution_count": 10,
   "id": "cb80443b-0bf6-4e04-a5c9-93de6191301d",
   "metadata": {},
   "outputs": [
    {
     "data": {
      "text/plain": [
       "0    492\n",
       "1    492\n",
       "Name: Class, dtype: int64"
      ]
     },
     "execution_count": 10,
     "metadata": {},
     "output_type": "execute_result"
    }
   ],
   "source": [
    "genuine_sample = genuine.sample(n=492)\n",
    "\n",
    "#Concatenating the two datasets\n",
    "df2 = pd.concat([fraud, genuine_sample], axis=0)\n",
    "df2['Class'].value_counts()"
   ]
  },
  {
   "cell_type": "markdown",
   "id": "3c60c96d-47f5-4d06-a1f5-d53f93950995",
   "metadata": {},
   "source": [
    "**Splitting the data for training set**"
   ]
  },
  {
   "cell_type": "code",
   "execution_count": 11,
   "id": "2cca8ed4-3745-4174-8332-8e69ffa2929f",
   "metadata": {},
   "outputs": [],
   "source": [
    "X = df2.drop(columns='Class', axis=1)\n",
    "Y = df2['Class']"
   ]
  },
  {
   "cell_type": "code",
   "execution_count": 13,
   "id": "e21e9c52-4a80-433f-b58a-45bcf768f34b",
   "metadata": {},
   "outputs": [
    {
     "name": "stdout",
     "output_type": "stream",
     "text": [
      "            Time         V1         V2        V3        V4        V5  \\\n",
      "541        406.0  -2.312227   1.951992 -1.609851  3.997906 -0.522188   \n",
      "623        472.0  -3.043541  -3.157307  1.088463  2.288644  1.359805   \n",
      "4920      4462.0  -2.303350   1.759247 -0.359745  2.330243 -0.821628   \n",
      "6108      6986.0  -4.397974   1.358367 -2.592844  2.679787 -1.128131   \n",
      "6329      7519.0   1.234235   3.019740 -4.304597  4.732795  3.624201   \n",
      "...          ...        ...        ...       ...       ...       ...   \n",
      "271477  164592.0 -13.841548 -17.195928  0.440966  9.025259  9.251035   \n",
      "131820   79744.0  -0.749457   0.525147  1.093406 -1.007261  0.606713   \n",
      "116025   74117.0   0.995334   0.429286  0.661508  2.259407  0.623090   \n",
      "208486  137143.0  -0.766931   1.455400 -0.502350 -0.412393  0.579116   \n",
      "261308  159954.0  -2.145552  -0.199911 -0.035348 -0.260257  1.937004   \n",
      "\n",
      "              V6        V7        V8        V9  ...       V20       V21  \\\n",
      "541    -1.426545 -2.537387  1.391657 -2.770089  ...  0.126911  0.517232   \n",
      "623    -1.064823  0.325574 -0.067794 -0.270953  ...  2.102339  0.661696   \n",
      "4920   -0.075788  0.562320 -0.399147 -0.238253  ... -0.430022 -0.294166   \n",
      "6108   -1.706536 -3.496197 -0.248778 -0.247768  ... -0.171608  0.573574   \n",
      "6329   -1.357746  1.713445 -0.496358 -1.282858  ...  0.009061 -0.379068   \n",
      "...          ...       ...       ...       ...  ...       ...       ...   \n",
      "271477 -5.060000 -7.346769  1.558466 -0.417626  ...  3.055685  1.037089   \n",
      "131820 -1.095648  1.120637 -0.202708 -0.632110  ...  0.114598 -0.339547   \n",
      "116025  1.507125 -0.183999  0.476938 -0.809684  ... -0.261933 -0.124386   \n",
      "208486 -1.131810  0.988088 -0.166162  0.212991  ...  0.113917  0.265822   \n",
      "261308 -0.988058  1.064224 -1.092562 -0.681652  ... -0.843532  0.697002   \n",
      "\n",
      "             V22       V23       V24       V25       V26       V27       V28  \\\n",
      "541    -0.035049 -0.465211  0.320198  0.044519  0.177840  0.261145 -0.143276   \n",
      "623     0.435477  1.375966 -0.293803  0.279798 -0.145362 -0.252773  0.035764   \n",
      "4920   -0.932391  0.172726 -0.087330 -0.156114 -0.542628  0.039566 -0.153029   \n",
      "6108    0.176968 -0.436207 -0.053502  0.252405 -0.657488 -0.827136  0.849573   \n",
      "6329   -0.704181 -0.656805 -1.632653  1.488901  0.566797 -0.010016  0.146793   \n",
      "...          ...       ...       ...       ...       ...       ...       ...   \n",
      "271477 -0.815769 -1.052607  0.425192 -0.161146  0.363588 -0.202885 -0.364105   \n",
      "131820 -1.273431  0.111482 -0.124347 -0.178817  0.509101 -0.059954  0.093030   \n",
      "116025 -0.271393  0.265917 -1.016727 -0.054258 -0.138180  0.066804  0.014952   \n",
      "208486  1.136541 -0.262170 -0.021111 -0.500218 -0.241699 -0.147713 -0.150220   \n",
      "261308  0.380203  0.438691 -0.463691  1.618034  0.212475  0.224706 -0.180231   \n",
      "\n",
      "        Amount  \n",
      "541       0.00  \n",
      "623     529.00  \n",
      "4920    239.93  \n",
      "6108     59.00  \n",
      "6329      1.00  \n",
      "...        ...  \n",
      "271477  264.74  \n",
      "131820   56.94  \n",
      "116025    4.98  \n",
      "208486   10.31  \n",
      "261308   17.73  \n",
      "\n",
      "[984 rows x 30 columns]\n"
     ]
    }
   ],
   "source": [
    "print(X)"
   ]
  },
  {
   "cell_type": "code",
   "execution_count": 18,
   "id": "4d64eb95-07d6-41a5-b8d1-3a74a3a798e4",
   "metadata": {},
   "outputs": [
    {
     "name": "stdout",
     "output_type": "stream",
     "text": [
      "541       1\n",
      "623       1\n",
      "4920      1\n",
      "6108      1\n",
      "6329      1\n",
      "         ..\n",
      "271477    0\n",
      "131820    0\n",
      "116025    0\n",
      "208486    0\n",
      "261308    0\n",
      "Name: Class, Length: 984, dtype: int64\n"
     ]
    }
   ],
   "source": [
    "print(Y)"
   ]
  },
  {
   "cell_type": "code",
   "execution_count": 20,
   "id": "1ed3561d-32eb-4bd5-b195-d0bd40d32b52",
   "metadata": {},
   "outputs": [],
   "source": [
    "from sklearn.model_selection import train_test_split"
   ]
  },
  {
   "cell_type": "code",
   "execution_count": 29,
   "id": "56686bea-09dc-40c7-b857-4489b52f246a",
   "metadata": {},
   "outputs": [],
   "source": [
    "X_train, X_test, Y_train, Y_test = train_test_split(X, Y, test_size=0.4, stratify=Y, random_state=2)"
   ]
  },
  {
   "cell_type": "markdown",
   "id": "5d2c66e5-7432-41c2-9a74-09dc860aca73",
   "metadata": {},
   "source": [
    "**Training the model using Logistic Regression and making predictions with test samples**"
   ]
  },
  {
   "cell_type": "code",
   "execution_count": 30,
   "id": "8f21b044-26e0-41a6-a9d4-8a2ff28f9bd7",
   "metadata": {},
   "outputs": [],
   "source": [
    "from sklearn.linear_model import LogisticRegression\n",
    "model = LogisticRegression()"
   ]
  },
  {
   "cell_type": "code",
   "execution_count": 31,
   "id": "6e43d9e7-740e-4aff-bff5-83edb91bedd5",
   "metadata": {},
   "outputs": [
    {
     "data": {
      "text/plain": [
       "LogisticRegression()"
      ]
     },
     "execution_count": 31,
     "metadata": {},
     "output_type": "execute_result"
    }
   ],
   "source": [
    "model.fit(X_train, Y_train)"
   ]
  },
  {
   "cell_type": "markdown",
   "id": "473cfc93-ac62-49bc-83bd-2c2c974acb6d",
   "metadata": {},
   "source": [
    "**Evaluating the model by checking accuracy**"
   ]
  },
  {
   "cell_type": "code",
   "execution_count": 37,
   "id": "45f3605d-9f7a-4c1f-b22a-5f6c9e1f15fe",
   "metadata": {},
   "outputs": [
    {
     "name": "stdout",
     "output_type": "stream",
     "text": [
      "[0 0 0 0 1 0 1 1 0 0 0 0 0 1 1 0 0 1 1 1 0 0 0 0 1 0 1 1 0 0 1 0 0 0 1 0 0\n",
      " 0 1 0 0 1 1 1 0 1 0 0 1 1 1 0 0 0 0 0 0 0 0 1 1 0 0 1 0 1 1 1 1 1 1 1 0 0\n",
      " 0 0 1 0 0 0 1 0 1 1 0 0 1 1 0 1 1 0 1 1 0 0 0 0 0 0 1 0 1 0 0 1 1 1 0 0 0\n",
      " 0 0 1 0 1 0 0 1 1 1 0 0 0 0 1 1 0 0 1 0 0 0 1 1 0 1 0 0 1 0 0 0 1 0 1 1 0\n",
      " 0 0 1 1 1 0 1 1 1 1 1 1 0 0 0 1 0 1 1 1 1 0 0 1 1 0 0 0 0 0 1 1 0 1 1 1 0\n",
      " 0 0 0 0 0 0 1 0 1 0 1 0 1 0 0 1 0 1 1 1 0 1 0 0 0 1 1 0 1 1 0 1 1 0 1 1 0\n",
      " 0 1 1 1 0 0 1 1 0 1 1 0 1 0 1 1 0 0 0 1 1 0 1 1 1 0 1 1 0 1 1 1 0 1 0 0 0\n",
      " 0 0 0 0 1 0 0 0 1 1 0 0 1 0 0 0 0 0 1 1 0 1 0 1 1 1 1 1 0 0 0 1 0 1 1 1 1\n",
      " 0 0 0 0 1 1 0 1 0 1 0 0 0 1 1 0 0 0 0 1 0 1 0 0 1 0 1 0 1 1 0 1 0 0 1 1 1\n",
      " 1 0 0 0 1 1 1 0 0 0 1 1 1 1 1 0 0 0 0 0 1 0 0 1 0 0 1 0 1 0 1 0 0 0 1 1 0\n",
      " 1 1 0 0 1 1 0 0 0 1 0 1 0 1 0 1 1 0 0 1 0 0 1 1 1 0 1 0 0 1 1 0 0 0 1 1 0\n",
      " 0 0 1 1 0 0 0 1 1 1 1 0 0 0 1 0 0 1 1 1 0 0 1 0 0 0 1 0 0 0 1 1 0 1 1 1 0\n",
      " 1 1 1 1 0 1 0 1 1 1 0 1 0 0 1 1 1 1 0 0 1 1 1 1 0 1 0 0 1 0 1 0 0 1 1 1 1\n",
      " 0 1 0 1 1 0 0 1 0 1 0 0 1 1 0 0 1 1 1 1 1 1 0 0 1 0 0 0 0 1 0 1 0 0 1 0 0\n",
      " 1 0 1 1 1 0 0 1 1 0 0 0 1 1 0 1 0 1 0 0 0 1 0 0 0 1 1 1 0 1 0 1 0 1 0 1 1\n",
      " 1 0 0 0 0 0 1 0 0 0 0 1 0 1 1 0 1 1 0 1 1 0 1 0 1 0 0 1 1 0 0 1 1 1 1]\n"
     ]
    }
   ],
   "source": [
    "X_train_Prediction = model.predict(X_train)\n",
    "print(X_train_Prediction)"
   ]
  },
  {
   "cell_type": "code",
   "execution_count": 43,
   "id": "dc3af74d-bcb4-4c4a-b4c5-95fd632c6707",
   "metadata": {},
   "outputs": [
    {
     "name": "stdout",
     "output_type": "stream",
     "text": [
      "[1 0 0 0 1 0 1 1 0 1 0 0 0 1 0 1 1 1 1 0 1 0 1 1 0 1 1 1 1 1 1 1 1 1 0 0 1\n",
      " 0 0 1 1 0 0 0 1 1 1 0 0 0 1 1 1 0 0 1 1 0 0 1 0 0 1 1 0 0 1 0 1 0 1 1 0 0\n",
      " 1 1 0 0 1 0 1 0 1 0 0 1 0 0 0 0 0 0 0 0 0 0 1 0 0 1 0 0 1 0 0 0 0 1 1 1 1\n",
      " 1 0 0 1 1 0 0 1 0 1 0 0 0 0 1 0 0 1 1 0 1 0 1 1 0 1 0 1 1 1 0 1 0 1 0 1 0\n",
      " 0 0 1 0 1 1 0 1 0 0 0 0 1 1 0 1 0 1 1 1 0 0 0 1 0 1 0 0 1 0 0 0 0 0 0 1 0\n",
      " 1 1 1 1 1 0 0 1 1 1 0 0 1 0 1 0 0 0 1 0 0 1 0 0 1 1 1 1 1 1 0 0 0 1 0 1 1\n",
      " 0 0 1 0 0 1 0 1 0 1 0 0 0 1 1 1 1 0 0 0 0 1 0 0 1 0 0 1 1 0 0 1 1 0 0 1 0\n",
      " 1 1 0 1 0 0 0 0 0 1 1 1 0 1 0 0 1 0 0 0 0 1 0 1 1 1 1 1 1 1 1 1 1 1 1 1 0\n",
      " 0 0 0 0 1 1 1 1 0 0 1 0 0 0 0 0 1 0 1 1 1 1 1 1 0 0 1 0 1 0 0 1 1 0 0 0 1\n",
      " 1 0 0 0 1 0 0 0 1 0 0 0 0 1 0 0 1 0 0 1 1 1 0 0 0 0 0 0 1 1 1 0 0 0 1 0 0\n",
      " 0 1 0 1 0 0 1 0 1 0 1 0 0 1 0 0 1 0 0 1 1 0 0 0]\n"
     ]
    }
   ],
   "source": [
    "X_test_Prediction = model.predict(X_test)\n",
    "print(X_test_Prediction)"
   ]
  },
  {
   "cell_type": "code",
   "execution_count": 44,
   "id": "5fe5301e-3b3f-418c-964d-7bf644e93c6c",
   "metadata": {},
   "outputs": [
    {
     "data": {
      "text/plain": [
       "0.9389830508474576"
      ]
     },
     "execution_count": 44,
     "metadata": {},
     "output_type": "execute_result"
    }
   ],
   "source": [
    "#model accuracy on test data\n",
    "model.score(X_train, Y_train)"
   ]
  },
  {
   "cell_type": "code",
   "execution_count": 45,
   "id": "2e598432-9990-4c69-91ff-79593b3155da",
   "metadata": {},
   "outputs": [
    {
     "data": {
      "text/plain": [
       "0.9187817258883249"
      ]
     },
     "execution_count": 45,
     "metadata": {},
     "output_type": "execute_result"
    }
   ],
   "source": [
    "#model accuracy on train data\n",
    "model.score(X_test, Y_test)"
   ]
  }
 ],
 "metadata": {
  "kernelspec": {
   "display_name": "Python 3",
   "language": "python",
   "name": "python3"
  },
  "language_info": {
   "codemirror_mode": {
    "name": "ipython",
    "version": 3
   },
   "file_extension": ".py",
   "mimetype": "text/x-python",
   "name": "python",
   "nbconvert_exporter": "python",
   "pygments_lexer": "ipython3",
   "version": "3.8.8"
  }
 },
 "nbformat": 4,
 "nbformat_minor": 5
}
